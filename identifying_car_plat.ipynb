{
 "cells": [
  {
   "cell_type": "markdown",
   "metadata": {},
   "source": [
    "!pip install -q -U google-generativeai\n",
    "\n",
    "from google.colab import userdata\n",
    "GOOGLE_API_KEY=userdata.get(‘GOOGLE_API_KEY’)\n",
    "\n",
    "genai.configure(api_key=GOOGLE_API_KEY)\n",
    "\n",
    "import google.generativeai as genai from PIL import Image import\n",
    "matplotlib.pyplot as plt\n",
    "\n",
    "# Initialize Gemini model\n",
    "\n",
    "model = genai.GenerativeModel(model_name=“gemini-1.5-pro-latest”)\n",
    "\n",
    "# Load image\n",
    "\n",
    "sample_file_1 = Image.open(‘/content/plat3.jfif’)\n",
    "\n",
    "# Create prompt\n",
    "\n",
    "prompt = “Read the plate number of the image with the output example {\n",
    "‘plate_no’: ‘AB 7528 W’, ‘vehicle’: ‘car’, ‘vehicle_type’: ‘MPV’,\n",
    "‘color’: ‘white’, ‘gate_open’: ‘N/A’, ‘gate_closed’: ‘N/A’ }”\n",
    "\n",
    "# Generate response\n",
    "\n",
    "response = model.generate_content(\\[sample_file_1, prompt\\])\n",
    "\n",
    "# Print response\n",
    "\n",
    "print(response.text)"
   ],
   "id": "42a14256-91c8-446e-92a7-ab6bf11055d3"
  }
 ],
 "nbformat": 4,
 "nbformat_minor": 5,
 "metadata": {}
}
